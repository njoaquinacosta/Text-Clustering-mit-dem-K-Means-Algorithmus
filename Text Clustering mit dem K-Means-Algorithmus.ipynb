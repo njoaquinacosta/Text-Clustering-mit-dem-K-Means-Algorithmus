{
 "cells": [
  {
   "cell_type": "code",
   "execution_count": 1,
   "metadata": {
    "collapsed": true
   },
   "outputs": [],
   "source": [
    "from sklearn.cluster import KMeans\n",
    "from stop_words import get_stop_words\n",
    "from sklearn.metrics import adjusted_rand_score\n",
    "\n",
    "\"\"\"\n",
    "Verwenden Sie TF-IDF für Feature-Extraktion\n",
    "\"\"\"\n",
    "from sklearn.feature_extraction.text import TfidfVectorizer"
   ]
  },
  {
   "cell_type": "code",
   "execution_count": 11,
   "metadata": {},
   "outputs": [
    {
     "name": "stdout",
     "output_type": "stream",
     "text": [
      "Top-Wörter pro Gruppe:\n",
      "\n",
      "\n",
      "Gruppe 0:\n",
      "\n",
      " twitter\n",
      " viel\n",
      " für\n",
      " iphone\n",
      " spaß\n",
      " die\n",
      " gemachtindonesischer\n",
      " berzeugung\n",
      " hand\n",
      " nicht\n",
      "\n",
      "Gruppe 1:\n",
      "\n",
      " wir\n",
      " und\n",
      " das\n",
      " sind\n",
      " japp\n",
      " mobil\n",
      " sehr\n",
      " verifiziert\n",
      " heute\n",
      " ua\n",
      "\n",
      "Gruppe 2:\n",
      "\n",
      " in\n",
      " trage\n",
      " 2015\n",
      " aids\n",
      " bei\n",
      " dazu\n",
      " mehr\n",
      " kein\n",
      " thema\n",
      " schon\n",
      "\n",
      "\n",
      "Vorhersage\n",
      "[1]\n",
      "[0]\n"
     ]
    }
   ],
   "source": [
    "\"\"\"\n",
    "Erstellen Sie Listen, aus denen die Cluster abgeleitet werden.\n",
    "\"\"\"\n",
    "\n",
    "documents = ['Olympia deutschland hat schon 23 medaillen gewonnen twittern irgendwelche deutsche athleten über ihre erlebnisse in vancouver.',\n",
    "             'Berzeugung per twitter publik gemachtindonesischer informationsminister will Michelle Obama nicht die hand geben.',\n",
    "             'Twitter für iPhone viel Spaß!',\n",
    "             'AIDS kein thema mehr in 2015 trage dazu bei.',\n",
    "             'Japp, wir sind sehr mobil!',\n",
    "             'Folge uns bitte und wir koennen das gern per direktnachricht besprechen.',\n",
    "             'Morgen beginnt die berlinale verfolgt was sich dort tut mit viel spass berlin deutschland und welt.',\n",
    "             'Wir stellen später das ganze spiel noch in die mediathek ZDFsendung verpasst ger esp handball.',\n",
    "             'verifizierung 20 heute wurden ua und verifiziert.']\n",
    "\n",
    "\"\"\"\n",
    "Textcluster erstellen; Implementieren k-Means algorithmus.\n",
    "\"\"\"\n",
    "\n",
    "vectorizer = TfidfVectorizer(stop_words=None)\n",
    "X = vectorizer.fit_transform(documents)\n",
    "\n",
    "true_k = 3\n",
    "model = KMeans(n_clusters=true_k, init='k-means++', max_iter=100, n_init=1)\n",
    "model.fit(X)\n",
    "\n",
    "print('Top-Wörter pro Gruppe:\\n')\n",
    "order_centroids = model.cluster_centers_.argsort()[:, ::-1]\n",
    "terms = vectorizer.get_feature_names()\n",
    "for i in range(true_k):\n",
    "    print('\\nGruppe %d:\\n' % i),\n",
    "    for ind in order_centroids[i, :10]:\n",
    "        print(' %s' % terms[ind]),\n",
    "    print\n",
    "\n",
    "print('\\n')\n",
    "print('Vorhersage')\n",
    "\n",
    "Y = vectorizer.transform(['Auf Wiedersehen!'])\n",
    "prediction = model.predict(Y)\n",
    "print(prediction)\n",
    "\n",
    "Y = vectorizer.transform(['Welchen Tipp teilst du am häufigsten mit anderen Nutzern die deiner meinung nach noch einiges über twitter lernen twittertipp.'])\n",
    "prediction = model.predict(Y)\n",
    "print(prediction)"
   ]
  },
  {
   "cell_type": "code",
   "execution_count": null,
   "metadata": {
    "collapsed": true
   },
   "outputs": [],
   "source": []
  }
 ],
 "metadata": {
  "kernelspec": {
   "display_name": "Python 3",
   "language": "python",
   "name": "python3"
  },
  "language_info": {
   "codemirror_mode": {
    "name": "ipython",
    "version": 3
   },
   "file_extension": ".py",
   "mimetype": "text/x-python",
   "name": "python",
   "nbconvert_exporter": "python",
   "pygments_lexer": "ipython3",
   "version": "3.6.1"
  }
 },
 "nbformat": 4,
 "nbformat_minor": 2
}
